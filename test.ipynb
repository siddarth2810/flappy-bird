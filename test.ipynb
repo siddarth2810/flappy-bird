{
 "cells": [
  {
   "cell_type": "code",
   "execution_count": 11,
   "id": "6b225444",
   "metadata": {},
   "outputs": [
    {
     "ename": "SystemExit",
     "evalue": "",
     "output_type": "error",
     "traceback": [
      "An exception has occurred, use %tb to see the full traceback.\n",
      "\u001b[0;31mSystemExit\u001b[0m\n"
     ]
    }
   ],
   "source": [
    "\n",
    "import pygame\n",
    "from sys import exit\n",
    "\n",
    "pygame.init()\n",
    "clock = pygame.time.Clock() #controls the frame rate of the game\n",
    "\n",
    "\n",
    "#window\n",
    "\n",
    "win_height = 720\n",
    "win_width = 551\n",
    "window = pygame.display.set_mode((win_width, win_height))\n",
    "\n",
    "\n",
    "def quit_game():\n",
    "    #quit game\n",
    "    for event in pygame.event.get():\n",
    "        if event.type == pygame.QUIT:\n",
    "            pygame.quit()\n",
    "            exit()\n",
    "\n",
    "# Images\n",
    "bird_images = [pygame.image.load(\"assets/bird_down.png\"),\n",
    "               pygame.image.load(\"assets/bird_mid.png\"),\n",
    "               pygame.image.load(\"assets/bird_up.png\")]\n",
    "skyline_image = pygame.image.load(\"assets/background.png\")\n",
    "ground_image = pygame.image.load(\"assets/ground.png\")\n",
    "top_pipe_image = pygame.image.load(\"assets/pipe_top.png\")\n",
    "bottom_pipe_image = pygame.image.load(\"assets/pipe_bottom.png\")\n",
    "game_over_image = pygame.image.load(\"assets/game_over.png\")\n",
    "start_image = pygame.image.load(\"assets/start.png\")\n",
    "\n",
    "\n",
    "# Game\n",
    "scroll_speed = 1\n",
    "\n",
    "class Ground(pygame.sprite.Sprite):#basic class for visible game objects\n",
    "    def __init__(self, x ,y): # x and y are the coordinates of the ground piece\n",
    "        pygame.sprite.Sprite.__init__(self)\n",
    "        self.image = ground_image\n",
    "\n",
    "\n",
    "\n",
    "# Game main method\n",
    "\n",
    "def main():\n",
    "    run = True\n",
    "    while run:\n",
    "        quit_game()\n",
    "\n",
    "        #draw window\n",
    "        window.fill((0, 0, 0))\n",
    "        \n",
    "        #draw background\n",
    "        window.blit(skyline_image, (0,0))\n",
    "\n",
    "        clock.tick(60)\n",
    "        pygame.display.update()\n",
    "\n",
    "main()"
   ]
  },
  {
   "cell_type": "code",
   "execution_count": null,
   "id": "e28e65ff",
   "metadata": {},
   "outputs": [],
   "source": []
  }
 ],
 "metadata": {
  "kernelspec": {
   "display_name": "Python 3 (ipykernel)",
   "language": "python",
   "name": "python3"
  },
  "language_info": {
   "codemirror_mode": {
    "name": "ipython",
    "version": 3
   },
   "file_extension": ".py",
   "mimetype": "text/x-python",
   "name": "python",
   "nbconvert_exporter": "python",
   "pygments_lexer": "ipython3",
   "version": "3.10.12"
  }
 },
 "nbformat": 4,
 "nbformat_minor": 5
}
